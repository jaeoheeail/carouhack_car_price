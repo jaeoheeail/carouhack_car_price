{
 "cells": [
  {
   "cell_type": "code",
   "execution_count": 2,
   "metadata": {},
   "outputs": [
    {
     "data": {
      "text/plain": [
       "Index(['make model', 'rid', 'source_url', 'id', 'dl', 'make', 'model',\n",
       "       'vehicle_type', 'car_registration_date', 'listing_price',\n",
       "       'depreciation', 'category_1', 'engine_cap', 'transmission', 'mileage',\n",
       "       'no_of_owners', 'coe', 'omv', 'arf', 'availability', 'posted_on',\n",
       "       'last_updated_on', 'company_name', 'road_tax', 'category_2',\n",
       "       'category_3'],\n",
       "      dtype='object')"
      ]
     },
     "execution_count": 2,
     "metadata": {},
     "output_type": "execute_result"
    }
   ],
   "source": [
    "import pandas as pd\n",
    "import warnings\n",
    "import numpy as np\n",
    "from sklearn.model_selection import train_test_split\n",
    "from sklearn.ensemble import GradientBoostingRegressor\n",
    "import pickle\n",
    "\n",
    "warnings.filterwarnings('ignore')\n",
    "\n",
    "np.random.seed(123)\n",
    "\n",
    "data = pd.read_csv('/Users/joelfoo/Documents/carouhack_car_price/data/sgcm-ads.csv')\n",
    "data.columns"
   ]
  },
  {
   "cell_type": "code",
   "execution_count": 3,
   "metadata": {},
   "outputs": [],
   "source": [
    "df = data[['make model', 'car_registration_date', 'coe', 'no_of_owners', 'mileage', 'arf', 'depreciation']]"
   ]
  },
  {
   "cell_type": "code",
   "execution_count": 4,
   "metadata": {},
   "outputs": [],
   "source": [
    "# feature engineering\n",
    "\n",
    "df['car_registration_date'] = pd.to_datetime(df['car_registration_date']) \n",
    "df['days_since_reg'] = (pd.to_datetime('today') - df['car_registration_date']).dt.days\n",
    "\n",
    "df['mileage_per_year'] = df['mileage']/(df['days_since_reg']/365)\n",
    "df['good_mileage'] = df['mileage_per_year']/1000 <= 15"
   ]
  },
  {
   "cell_type": "code",
   "execution_count": 56,
   "metadata": {},
   "outputs": [
    {
     "name": "stdout",
     "output_type": "stream",
     "text": [
      "55094.5 59177.0\n"
     ]
    }
   ],
   "source": [
    "# limit dataset to top 10 cars\n",
    "top_10 = ['Honda Vezel 1.5A X',\n",
    "          'Toyota Corolla Altis 1.6A',\n",
    "          'Volkswagen Golf 1.4A TSI',\n",
    "          'Toyota Wish 1.8A', \n",
    "          'BMW 5 Series 520i',\n",
    "          'Mazda 5 2.0A Sunroof',\n",
    "          'Volkswagen Jetta 1.4A TSI',\n",
    "          'Volkswagen Scirocco 1.4A TSI',\n",
    "          'Audi A4 1.8A TFSI MU',\n",
    "          'Mercedes-Benz C-Class C180 Avantgarde'\n",
    "         ]\n",
    "\n",
    "\n",
    "df = df[(df['make model'].isin(top_10))].dropna()\n",
    "\n",
    "model_dict = {}\n",
    "for m in top_10:\n",
    "    model_dict[m] = {\"lower\": None,\n",
    "                     \"upper\": None,\n",
    "                    \"predicted\": None}"
   ]
  },
  {
   "cell_type": "code",
   "execution_count": 68,
   "metadata": {},
   "outputs": [],
   "source": [
    "state = np.random.seed(123)\n",
    "\n",
    "for make_model in top_10:\n",
    "    df_m = df[df['make model'] == make_model]\n",
    "    \n",
    "    mileage_processed = []\n",
    "    for i in range(len(df_m['mileage'])):\n",
    "        mileage = df_m['mileage'].iloc[i]\n",
    "        if  mileage == 0:\n",
    "            mileage_processed.append(df_m['days_since_reg'].iloc[i] / 365 * 15000)\n",
    "        else:\n",
    "            mileage_processed.append(mileage)\n",
    "\n",
    "    df_m['mileage'] = mileage_processed\n",
    "    \n",
    "    train, test = train_test_split(df_m, test_size=0.3)\n",
    "\n",
    "    coeff_list = ['coe', 'no_of_owners', 'arf', 'mileage', 'good_mileage', 'days_since_reg']\n",
    "\n",
    "    x_train = train[coeff_list]\n",
    "    y_train = train[['depreciation']]\n",
    "\n",
    "    x_test = test[coeff_list]\n",
    "    y_test= test[['depreciation']]\n",
    "    \n",
    "    #print(make_model)\n",
    "    #print(y_train)\n",
    "    \n",
    "    # GradientBoost\n",
    "    r0 = GradientBoostingRegressor(loss='quantile', alpha=0.95,\n",
    "                                   n_estimators= 10,\n",
    "                                   max_features = 'auto',\n",
    "                                   random_state=state)\n",
    "    r0.fit(x_train, y_train)\n",
    "    #model_dict[make_model][\"upper\"] = pickle.dumps(r0)\n",
    "    y_upper = r0.predict(x_test)\n",
    "\n",
    "    r0.set_params(alpha=1-0.95)\n",
    "    r0.fit(x_train,y_train)\n",
    "    #model_dict[make_model][\"lower\"] = pickle.dumps(r0)\n",
    "    y_lower = r0.predict(x_test)\n",
    "\n",
    "    r0.set_params(loss='ls')\n",
    "    r0.fit(x_train, y_train)\n",
    "    #model_dict[make_model][\"predicted\"] = pickle.dumps(r0)\n",
    "    y_pred0 = r0.predict(x_test)\n",
    "\n",
    "\n",
    "    y_test['lower'] = y_lower\n",
    "    y_test['pred'] = y_pred0\n",
    "    y_test['upper'] = y_upper\n"
   ]
  },
  {
   "cell_type": "code",
   "execution_count": 7,
   "metadata": {},
   "outputs": [],
   "source": [
    "f = open('/Users/joelfoo/Documents/carouhack_car_price/data/model.pkl', 'wb')\n",
    "pickle.dump(model_dict, f)\n",
    "f.close()"
   ]
  },
  {
   "cell_type": "code",
   "execution_count": 8,
   "metadata": {},
   "outputs": [],
   "source": [
    "model_dict = pd.read_pickle('/Users/joelfoo/Documents/carouhack_car_price/data/model.pkl')"
   ]
  },
  {
   "cell_type": "code",
   "execution_count": 10,
   "metadata": {},
   "outputs": [
    {
     "data": {
      "text/html": [
       "<div>\n",
       "<style scoped>\n",
       "    .dataframe tbody tr th:only-of-type {\n",
       "        vertical-align: middle;\n",
       "    }\n",
       "\n",
       "    .dataframe tbody tr th {\n",
       "        vertical-align: top;\n",
       "    }\n",
       "\n",
       "    .dataframe thead th {\n",
       "        text-align: right;\n",
       "    }\n",
       "</style>\n",
       "<table border=\"1\" class=\"dataframe\">\n",
       "  <thead>\n",
       "    <tr style=\"text-align: right;\">\n",
       "      <th></th>\n",
       "      <th>coe</th>\n",
       "      <th>no_of_owners</th>\n",
       "      <th>arf</th>\n",
       "      <th>mileage</th>\n",
       "      <th>good_mileage</th>\n",
       "      <th>days_since_reg</th>\n",
       "    </tr>\n",
       "  </thead>\n",
       "  <tbody>\n",
       "    <tr>\n",
       "      <th>3254</th>\n",
       "      <td>49802</td>\n",
       "      <td>1</td>\n",
       "      <td>44135</td>\n",
       "      <td>23280</td>\n",
       "      <td>False</td>\n",
       "      <td>476</td>\n",
       "    </tr>\n",
       "  </tbody>\n",
       "</table>\n",
       "</div>"
      ],
      "text/plain": [
       "        coe  no_of_owners    arf  mileage  good_mileage  days_since_reg\n",
       "3254  49802             1  44135    23280         False             476"
      ]
     },
     "execution_count": 10,
     "metadata": {},
     "output_type": "execute_result"
    }
   ],
   "source": [
    "x_train.iloc[0:1]"
   ]
  },
  {
   "cell_type": "code",
   "execution_count": 45,
   "metadata": {},
   "outputs": [],
   "source": [
    "x_new = pd.DataFrame(np.array([123,\n",
    "                               5, 2, 3, True,\n",
    "                                 5]).reshape(1,6), index=np.array(range(1, 2)), columns = coeff_list)"
   ]
  },
  {
   "cell_type": "code",
   "execution_count": 49,
   "metadata": {},
   "outputs": [],
   "source": [
    "x_new = pd.DataFrame(np.array([123,\n",
    "                                 2, 231, 15125, True,\n",
    "                                 1123]).reshape(1, 6),\n",
    "                                 index=np.array(range(1, 2)),\n",
    "                                 columns=coeff_list)"
   ]
  },
  {
   "cell_type": "code",
   "execution_count": 50,
   "metadata": {},
   "outputs": [
    {
     "data": {
      "text/html": [
       "<div>\n",
       "<style scoped>\n",
       "    .dataframe tbody tr th:only-of-type {\n",
       "        vertical-align: middle;\n",
       "    }\n",
       "\n",
       "    .dataframe tbody tr th {\n",
       "        vertical-align: top;\n",
       "    }\n",
       "\n",
       "    .dataframe thead th {\n",
       "        text-align: right;\n",
       "    }\n",
       "</style>\n",
       "<table border=\"1\" class=\"dataframe\">\n",
       "  <thead>\n",
       "    <tr style=\"text-align: right;\">\n",
       "      <th></th>\n",
       "      <th>coe</th>\n",
       "      <th>no_of_owners</th>\n",
       "      <th>arf</th>\n",
       "      <th>mileage</th>\n",
       "      <th>good_mileage</th>\n",
       "      <th>days_since_reg</th>\n",
       "    </tr>\n",
       "  </thead>\n",
       "  <tbody>\n",
       "    <tr>\n",
       "      <th>1</th>\n",
       "      <td>123</td>\n",
       "      <td>2</td>\n",
       "      <td>231</td>\n",
       "      <td>15125</td>\n",
       "      <td>1</td>\n",
       "      <td>1123</td>\n",
       "    </tr>\n",
       "  </tbody>\n",
       "</table>\n",
       "</div>"
      ],
      "text/plain": [
       "   coe  no_of_owners  arf  mileage  good_mileage  days_since_reg\n",
       "1  123             2  231    15125             1            1123"
      ]
     },
     "execution_count": 50,
     "metadata": {},
     "output_type": "execute_result"
    }
   ],
   "source": [
    "x_new"
   ]
  },
  {
   "cell_type": "code",
   "execution_count": 54,
   "metadata": {},
   "outputs": [
    {
     "name": "stdout",
     "output_type": "stream",
     "text": [
      "[8483.52963603]\n",
      "[8559.35888768]\n",
      "[11262.21448834]\n"
     ]
    }
   ],
   "source": [
    "print(pickle.loads(model_dict[\"Toyota Wish 1.8A\"][\"lower\"]).predict(x_new))\n",
    "print(pickle.loads(model_dict[\"Toyota Wish 1.8A\"][\"predicted\"]).predict(x_new))\n",
    "print(pickle.loads(model_dict[\"Toyota Wish 1.8A\"][\"upper\"]).predict(x_new))"
   ]
  },
  {
   "cell_type": "code",
   "execution_count": 77,
   "metadata": {},
   "outputs": [],
   "source": [
    "from datetime import datetime\n",
    "\n",
    "def calculate_months_since_reg(reg_date):\n",
    "    print(\"calculating months since:\", reg_date)\n",
    "    date_format = \"%d/%m/%Y\"\n",
    "    formatted_reg_date = datetime.strptime(reg_date, date_format)\n",
    "    delta = datetime.today() - formatted_reg_date\n",
    "    return delta.month\n",
    "\n"
   ]
  },
  {
   "cell_type": "code",
   "execution_count": 80,
   "metadata": {},
   "outputs": [
    {
     "name": "stdout",
     "output_type": "stream",
     "text": [
      "2011-04-18 00:00:00\n"
     ]
    }
   ],
   "source": [
    "print()"
   ]
  },
  {
   "cell_type": "code",
   "execution_count": 88,
   "metadata": {},
   "outputs": [
    {
     "data": {
      "text/plain": [
       "18320.0"
      ]
     },
     "execution_count": 88,
     "metadata": {},
     "output_type": "execute_result"
    }
   ],
   "source": [
    "np.max(df_m['depreciation'])"
   ]
  },
  {
   "cell_type": "code",
   "execution_count": 91,
   "metadata": {},
   "outputs": [
    {
     "data": {
      "text/plain": [
       "datetime.datetime(2026, 8, 19, 0, 0)"
      ]
     },
     "execution_count": 91,
     "metadata": {},
     "output_type": "execute_result"
    }
   ],
   "source": [
    "d = datetime.strptime('19/8/2016', \"%d/%m/%Y\")\n",
    "d.replace(year=d.year+10)"
   ]
  },
  {
   "cell_type": "code",
   "execution_count": null,
   "metadata": {},
   "outputs": [],
   "source": []
  }
 ],
 "metadata": {
  "kernelspec": {
   "display_name": "Python 3",
   "language": "python",
   "name": "python3"
  },
  "language_info": {
   "codemirror_mode": {
    "name": "ipython",
    "version": 3
   },
   "file_extension": ".py",
   "mimetype": "text/x-python",
   "name": "python",
   "nbconvert_exporter": "python",
   "pygments_lexer": "ipython3",
   "version": "3.7.1"
  }
 },
 "nbformat": 4,
 "nbformat_minor": 2
}
